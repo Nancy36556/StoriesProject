{
 "cells": [
  {
   "cell_type": "code",
   "execution_count": 7,
   "metadata": {},
   "outputs": [],
   "source": [
    "import torch\n",
    "from transformers import GPT2LMHeadModel,GPT2Tokenizer"
   ]
  },
  {
   "cell_type": "code",
   "execution_count": 8,
   "metadata": {},
   "outputs": [],
   "source": [
    "tokenizer=GPT2Tokenizer.from_pretrained('gpt2')\n",
    "model=GPT2LMHeadModel.from_pretrained('gpt2')"
   ]
  },
  {
   "cell_type": "code",
   "execution_count": 9,
   "metadata": {},
   "outputs": [],
   "source": [
    "with open('normalized_stories.txt', 'r', encoding=\"utf8\") as file:\n",
    "        text = file.read()\n",
    "file.close()\n",
    "\n",
    "f=(text)"
   ]
  },
  {
   "cell_type": "code",
   "execution_count": 12,
   "metadata": {},
   "outputs": [
    {
     "name": "stderr",
     "output_type": "stream",
     "text": [
      "Truncation was not explicitly activated but `max_length` is provided a specific value, please use `truncation=True` to explicitly truncate examples to max length. Defaulting to 'longest_first' truncation strategy. If you encode pairs of sequences (GLUE-style) with the tokenizer you can select this strategy more precisely by providing a specific strategy to `truncation`.\n"
     ]
    }
   ],
   "source": [
    "input =tokenizer.encode(f,return_tensors='pt', max_length=1024)"
   ]
  },
  {
   "cell_type": "code",
   "execution_count": 13,
   "metadata": {},
   "outputs": [
    {
     "name": "stderr",
     "output_type": "stream",
     "text": [
      "The attention mask and the pad token id were not set. As a consequence, you may observe unexpected behavior. Please pass your input's `attention_mask` to obtain reliable results.\n",
      "Setting `pad_token_id` to `eos_token_id`:50256 for open-end generation.\n",
      "Input length of input_ids is 1024, but `max_length` is set to 200. This can lead to unexpected behavior. You should consider increasing `max_new_tokens`.\n"
     ]
    }
   ],
   "source": [
    "output=model.generate(input,max_length=200,do_sample=True,temperature=1,top_k=50)"
   ]
  },
  {
   "cell_type": "code",
   "execution_count": 14,
   "metadata": {},
   "outputs": [
    {
     "name": "stdout",
     "output_type": "stream",
     "text": [
      "the woman with the funny hair was back again\n",
      "gunner watched as she made her ascent over the rusted metal fence through the gap in the barbed wire that framed the edges and hopped to the ground once shed lowered herself a safe enough distance shed been at it four times now\n",
      "no wait five hed forgotten new years eve what a valiant attempt that was\n",
      "and had failed each time he admired her enthusiasm or perhaps it was stubbornness either way shed hopped over the fence yet again and it was his job to stop her he sighed getting up\n",
      "he crept toward her keeping about a hundred yards away so as not to alert her to his presence with most intruders gunner didnt have to worry about that but the funnyhaired woman was crafty on two occasions shed heard him coming a twig snapping under his weight the clank of metalonmetal the night hed leaned too close to the car hed been behind and the thing around his throat pinged into the side of it he still wasnt sure why boss made him wear it it just got in the way and kept him from being stealthy\n",
      "not to mention it was uncomfortable\n",
      "but he guessed it was just part of the uniform still when the funnyhaired woman got away boss got angry it was gunners job to catch all intruders and if he didnt do it he was in for it later thankfully boss was unaware of how many failed attempts gunner had made to catch her gunner was pretty sure boss only knew of two he counted himself lucky for that\n",
      "he followed her stepbystep easing into his weight the way a lion might stalk the flagging member of a herd there was no need to rush he knew where she was headed she may change her route each time but it always led to the same place on her fourth attempt hed made a wide circle around her and beat her to her destination when shed arrived he was standing there waiting for her the fear in her eyes hadnt bothered him a bit\n",
      "he had grown used to seeing it\n",
      "but something else there had what was it not anger not quite frustration but something else it had been enough to take him aback and that was one of the times shed gotten away that boss had found out about gunner had gotten the beating of his life for it he wouldnt let that happen again\n",
      "she stopped abruptly and spun her head around gunner was sure he hadnt made a sound the funnyhaired woman was getting paranoid and he wasnt a bit surprised one way or another these late night antics would come to an end either with her making off with what she wanted or him catching her gunner was pretty sure he knew which was most likely he thought the woman must too yet here she was again he sighed she started forward once more on the cautious trembling legs of a fawn head on a swivel eyes scanning the darkness hed gotten closer to her now close enough to see the deep rise and fall of her chest in her panicked breathing the beads of sweat that peppered her forehead she unzipped her pants pocket and it hit him\n",
      "a delicious savory aroma almost irresistible were it not for the odd scent that lightly tinged its edges metallic almost the womans lips trembled into a tight little o and to gunners astonishment she actually started whistling well trying to anyway\n",
      "hehehere boy she said\n",
      "gunners jaw dropped\n",
      "here boy more confident this time\n",
      "the jig was up he guessed she didnt feel like playing their little game of hide and seek tonight he walked out toward her head lowered searching for any sign of a trap but of course the trap was in her hand\n",
      "she gasped when she saw him but kept a fake smile plastered on her face she bent down closer to him there he is whos a good boy huh does the good boy want a treat\n",
      "how stupid do you think i am woman gunner said but of course all the woman heard was a low growl\n",
      "thats it come and take it eat it and go right to sleep she was trembling all over breathing in hitches a lone lamppost cast a harsh glow across her face illuminating the net of scar tissue on the left side where the hair could no longer grow on the right tendrils of frizzy curls fell over one eye the other bulged pleading\n",
      "gunner drew closer head still lowered growling in warning you better get out of here while you can but the woman couldnt understand\n",
      "gunner no\n",
      "gunner knew that voice anywhere it was boss youve done it now lady he tried to say he backed away from her toward the voice never taking his eyes off her boss liked it when he did this had trained him this way\n",
      "boss stepped forward you seriously tried to poison my dog\n",
      "no the woman cried i would never hurt an animal i was just gonna put him to sleep thats all\n",
      "boss slapped the tainted meat from her hand sleep huh my ass he grabbed the womans shoulder in one meat hook of a hand and dragged her toward the red buick lacrosse she had been trying to sneak into you want in so badly fine but now youre here to stay\n",
      "the woman tried to fight against her\n"
     ]
    }
   ],
   "source": [
    "text=tokenizer.decode(output[0],skip_special_tokens=True)\n",
    "print(text)"
   ]
  }
 ],
 "metadata": {
  "kernelspec": {
   "display_name": "Python 3",
   "language": "python",
   "name": "python3"
  },
  "language_info": {
   "codemirror_mode": {
    "name": "ipython",
    "version": 3
   },
   "file_extension": ".py",
   "mimetype": "text/x-python",
   "name": "python",
   "nbconvert_exporter": "python",
   "pygments_lexer": "ipython3",
   "version": "3.10.8"
  },
  "orig_nbformat": 4,
  "vscode": {
   "interpreter": {
    "hash": "4f9bad5840550d9008048e3372190c4f5b2ab43fc8dbf67e79166de712c35ea8"
   }
  }
 },
 "nbformat": 4,
 "nbformat_minor": 2
}
