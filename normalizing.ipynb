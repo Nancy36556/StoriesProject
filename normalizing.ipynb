{
 "cells": [
  {
   "cell_type": "code",
   "execution_count": 1,
   "metadata": {},
   "outputs": [],
   "source": [
    "import unicodedata\n",
    "import re\n",
    "\n",
    "# Normalize the text data\n",
    "def normalize(file_name, output_file_name):\n",
    "    def normalize_text(text):\n",
    "        # Convert to lowercase\n",
    "        text = text.lower()\n",
    "\n",
    "        #remove short forms\n",
    "        text = re.sub(r\"won't\", \"will not\", text)\n",
    "        text = re.sub(r\"can\\'t\", \"can not\", text)\n",
    "        text = re.sub(r\"n\\'t\", \" not\", text)\n",
    "        text = re.sub(r\"\\'re\", \" are\", text)\n",
    "        text = re.sub(r\"\\'s\", \" is\", text)\n",
    "        text = re.sub(r\"\\'d\", \" would\", text)\n",
    "        text = re.sub(r\"\\'ll\", \" will\", text)\n",
    "        text = re.sub(r\"\\'t\", \" not\", text)\n",
    "        text = re.sub(r\"\\'ve\", \" have\", text)\n",
    "        text = re.sub(r\"\\'m\", \" am\", text)\n",
    "\n",
    "        # Remove any unwanted characters or symbols\n",
    "        text = re.sub(r'[^a-zA-Z0-9\\s]', '', text)\n",
    "        # Remove extra spaces or newline characters\n",
    "        text = text.strip()\n",
    "        text = re.sub(r'\\s{2,}', '\\n', text)\n",
    "\n",
    "        # text = re.sub(r'[\"\\n\"]', '<N>', text)\n",
    "        # Normalize the text by removing diacritics\n",
    "        text = unicodedata.normalize('NFKD', text).encode('ascii', 'ignore').decode('utf-8', 'ignore')\n",
    "\n",
    "        return text\n",
    "\n",
    "    #reading the text data\n",
    "\n",
    "    with open(file_name, 'r', encoding=\"utf8\") as f:\n",
    "        text = f.read()\n",
    "\n",
    "\n",
    "\n",
    "\n",
    "\n",
    "\n",
    "    # Normalize the text data\n",
    "    text = normalize_text(text)\n",
    "\n",
    "\n",
    "    #saving the normalized text data\n",
    "    with open(output_file_name, 'w') as f:\n",
    "        f.write(text)\n",
    "\n",
    "\n",
    "# #splitting the text into sentences\n",
    "# sentences = text.split('<N>')\n",
    "# print(sentences)"
   ]
  }
 ],
 "metadata": {
  "kernelspec": {
   "display_name": "Python 3",
   "language": "python",
   "name": "python3"
  },
  "language_info": {
   "codemirror_mode": {
    "name": "ipython",
    "version": 3
   },
   "file_extension": ".py",
   "mimetype": "text/x-python",
   "name": "python",
   "nbconvert_exporter": "python",
   "pygments_lexer": "ipython3",
   "version": "3.10.8 (tags/v3.10.8:aaaf517, Oct 11 2022, 16:50:30) [MSC v.1933 64 bit (AMD64)]"
  },
  "orig_nbformat": 4,
  "vscode": {
   "interpreter": {
    "hash": "4f9bad5840550d9008048e3372190c4f5b2ab43fc8dbf67e79166de712c35ea8"
   }
  }
 },
 "nbformat": 4,
 "nbformat_minor": 2
}
