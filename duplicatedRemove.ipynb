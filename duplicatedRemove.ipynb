{
 "cells": [
  {
   "cell_type": "code",
   "execution_count": 11,
   "metadata": {},
   "outputs": [],
   "source": [
    "import sys\n",
    "import time as t\n",
    "\n",
    "def get_time():\n",
    "\treturn t.strftime('%H:%M:%S')\n",
    "def remove_duplicates(fileName, outputFileName):\n",
    "\t\n",
    "\twith open(fileName, 'r', encoding=\"utf-8\") as f:\n",
    "\t\tfile = f.readlines()\n",
    "\n",
    "\twordList = []\n",
    "\tbadList = []\n",
    "\n",
    "\tfor line in file:\n",
    "\t\tif line in wordList:\n",
    "\t\t\tbadList.append(line)\n",
    "\t\telse:\n",
    "\t\t\twordList.append(line)\n",
    "\n",
    "\n",
    "\tfile = open(outputFileName, 'w', encoding=\"utf-8\")\n",
    "\n",
    "\tfor line in wordList:\n",
    "\t\tfile.write(line)\n",
    "\n",
    "\tfile.close()\n",
    "\n",
    "\t\n",
    "\n",
    "# print('[{0}]: {1} duplicate lines removed from {2}.'.format(get_time(), len(badList), 'Stories - Copy.txt'))\n",
    "# print(badList)\n",
    "\n",
    "\n"
   ]
  }
 ],
 "metadata": {
  "kernelspec": {
   "display_name": "Python 3",
   "language": "python",
   "name": "python3"
  },
  "language_info": {
   "codemirror_mode": {
    "name": "ipython",
    "version": 3
   },
   "file_extension": ".py",
   "mimetype": "text/x-python",
   "name": "python",
   "nbconvert_exporter": "python",
   "pygments_lexer": "ipython3",
   "version": "3.10.8 (tags/v3.10.8:aaaf517, Oct 11 2022, 16:50:30) [MSC v.1933 64 bit (AMD64)]"
  },
  "orig_nbformat": 4,
  "vscode": {
   "interpreter": {
    "hash": "4f9bad5840550d9008048e3372190c4f5b2ab43fc8dbf67e79166de712c35ea8"
   }
  }
 },
 "nbformat": 4,
 "nbformat_minor": 2
}
