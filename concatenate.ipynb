{
 "cells": [
  {
   "cell_type": "code",
   "execution_count": 9,
   "metadata": {},
   "outputs": [],
   "source": [
    "import os\n",
    "\n",
    "\n",
    "def concatenate_files(path, output_file):\n",
    "    for filename in os.listdir(path):\n",
    "        if filename.endswith(\".txt\"):\n",
    "            with open(path + filename, encoding=\"utf-8\") as f:\n",
    "                with open(output_file, 'a', encoding=\"utf-8\") as outfile:\n",
    "                    text = f.read()\n",
    "                    outfile.write(text)\n",
    "                    outfile.write('\\n')\n",
    "          \n",
    "\n",
    "\n",
    "                       "
   ]
  }
 ],
 "metadata": {
  "kernelspec": {
   "display_name": "Python 3",
   "language": "python",
   "name": "python3"
  },
  "language_info": {
   "codemirror_mode": {
    "name": "ipython",
    "version": 3
   },
   "file_extension": ".py",
   "mimetype": "text/x-python",
   "name": "python",
   "nbconvert_exporter": "python",
   "pygments_lexer": "ipython3",
   "version": "3.10.8 (tags/v3.10.8:aaaf517, Oct 11 2022, 16:50:30) [MSC v.1933 64 bit (AMD64)]"
  },
  "orig_nbformat": 4,
  "vscode": {
   "interpreter": {
    "hash": "4f9bad5840550d9008048e3372190c4f5b2ab43fc8dbf67e79166de712c35ea8"
   }
  }
 },
 "nbformat": 4,
 "nbformat_minor": 2
}
